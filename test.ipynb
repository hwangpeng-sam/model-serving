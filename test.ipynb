{
 "cells": [
  {
   "cell_type": "markdown",
   "metadata": {},
   "source": [
    "### Model API Workflow\n",
    "\n",
    "1. CloudWatch Events로부터 호출 받을 때, 시간을 보내거나, image 내에서 현재 시간 얻어내거나. (난이도로 봤을 때 훨씬 쉬운건 아무것도 안보내고, image 내에서 진행하는 것.)\n",
    "\n",
    "2. 시간을 20분 단위로 내림하기.\n",
    "\n",
    "3. RDS로부터 내림한 시간을 기준으로 데이터 받음. (evs info & timestamp's sequence(length: n) & pymysql)\n",
    "\n",
    "4. 받은 데이터 utils.py 돌리고 model 실행.\n",
    "\n",
    "5. RDS로부터 데이터 전달하여 update."
   ]
  },
  {
   "cell_type": "markdown",
   "metadata": {},
   "source": [
    "### 내림 시간 계산"
   ]
  },
  {
   "cell_type": "code",
   "execution_count": 55,
   "metadata": {},
   "outputs": [
    {
     "data": {
      "text/plain": [
       "'2023-08-13 12:40:00'"
      ]
     },
     "execution_count": 55,
     "metadata": {},
     "output_type": "execute_result"
    }
   ],
   "source": [
    "from datetime import datetime\n",
    "\n",
    "def get_dt():\n",
    "    now = datetime.now()\n",
    "    dt = datetime(now.year, now.month, now.day, now.hour, now.minute//20*20, 00)\n",
    "    dt = dt.strftime('%Y-%m-%d %H:%M:%S')\n",
    "    return dt\n",
    "\n",
    "get_dt()"
   ]
  },
  {
   "cell_type": "markdown",
   "metadata": {},
   "source": [
    "### DB 연동 및 데이터 입력"
   ]
  },
  {
   "cell_type": "code",
   "execution_count": 57,
   "metadata": {},
   "outputs": [],
   "source": [
    "import pymysql\n",
    "import pandas as pd\n",
    "\n",
    "attributes = pd.read_csv('data/evcs_attributes.csv')\n",
    "embedding = pd.read_csv('data/evcs_embedding.csv')"
   ]
  },
  {
   "cell_type": "code",
   "execution_count": 58,
   "metadata": {},
   "outputs": [],
   "source": [
    "connection = pymysql.connect(\n",
    "    host=host,\n",
    "    user=user,\n",
    "    password=password,\n",
    "    db=db,\n",
    "    charset='utf8',\n",
    "    port = 3306\n",
    ")"
   ]
  },
  {
   "cell_type": "code",
   "execution_count": 59,
   "metadata": {},
   "outputs": [],
   "source": [
    "# Create Table\n",
    "create_query = '''\n",
    "CREATE TABLE IF NOT EXISTS station (\n",
    "Sid INT NOT NULL PRIMARY KEY, \n",
    "Sname VARCHAR(100) NOT NULL, \n",
    "Latitude DOUBLE NOT NULL, \n",
    "Longitude DOUBLE NOT NULL, \n",
    "Capacity FLOAT NOT NULL, \n",
    "Slow_Chargers INT NOT NULL,\n",
    "Fast_Chargers INT NOT NULL,\n",
    "Mean_trip DOUBLE NOT NULL,\n",
    "Length_city DOUBLE NOT NULL,\n",
    "Length_highway DOUBLE NOT NULL,\n",
    "Length_local DOUBLE NOT NULL,\n",
    "Length_national DOUBLE NOT NULL,\n",
    "Indust_ratio DOUBLE NOT NULL,\n",
    "Etc_ratio DOUBLE NOT NULL,\n",
    "Green_ratio DOUBLE NOT NULL,\n",
    "Commerce_ratio DOUBLE NOT NULL,\n",
    "Reside_ratio DOUBLE NOT NULL,\n",
    "UMAP_1 DOUBLE NOT NULL,\n",
    "UMAP_2 DOUBLE NOT NULL,\n",
    "UMAP_3 DOUBLE NOT NULL,\n",
    "UMAP_4 DOUBLE NOT NULL,\n",
    "UMAP_5 DOUBLE NOT NULL,\n",
    "UMAP_6 DOUBLE NOT NULL,\n",
    "UMAP_7 DOUBLE NOT NULL,\n",
    "UMAP_8 DOUBLE NOT NULL\n",
    ")\n",
    "'''\n",
    "\n",
    "with connection.cursor() as cursor:\n",
    "    cursor.execute(create_query.replace('\\n', ''))"
   ]
  },
  {
   "cell_type": "code",
   "execution_count": 60,
   "metadata": {},
   "outputs": [],
   "source": [
    "# Insert Values into Database\n",
    "for idx in range(attributes.shape[0]):\n",
    "    atts = attributes.iloc[idx, :].values.tolist()\n",
    "    emb = embedding.iloc[idx, :].values.tolist()[1:]\n",
    "    values = tuple([idx] + atts + emb)\n",
    "    insert_query = \"INSERT INTO station VALUES {};\"\n",
    "    \n",
    "    with connection.cursor() as cursor:\n",
    "        cursor.execute(insert_query.format(values))\n",
    "\n",
    "connection.commit()\n",
    "connection.close()"
   ]
  },
  {
   "cell_type": "markdown",
   "metadata": {},
   "source": [
    "### DB 가져오기"
   ]
  },
  {
   "cell_type": "code",
   "execution_count": 1,
   "metadata": {},
   "outputs": [],
   "source": [
    "import pymysql\n",
    "import pandas as pd"
   ]
  },
  {
   "cell_type": "code",
   "execution_count": 8,
   "metadata": {},
   "outputs": [],
   "source": [
    "connection = pymysql.connect(\n",
    "    host=host,\n",
    "    user=user,\n",
    "    password=password,\n",
    "    db=db,\n",
    "    charset='utf8',\n",
    "    port = 3306\n",
    ")\n",
    "\n",
    "select_query = \"SELECT * FROM station\"\n",
    "\n",
    "with connection.cursor() as cursor:\n",
    "    cursor.execute(select_query)\n",
    "    result = cursor.fetchall()"
   ]
  },
  {
   "cell_type": "code",
   "execution_count": 4,
   "metadata": {},
   "outputs": [],
   "source": [
    "atts_cols = ['Latitude', 'Longitude', 'Capacity', 'Slow_Chargers',\n",
    "       'Fast_Chargers', 'Mean_trip', 'Length_city', 'Length_highway',\n",
    "       'Length_local', 'Length_national', 'Indust_ratio', 'Etc_ratio',\n",
    "       'Green_ratio', 'Commerce_ratio', 'Reside_ratio']\n",
    "\n",
    "embed_cols = ['UMAP_1', 'UMAP_2', 'UMAP_3', \n",
    "        'UMAP_4', 'UMAP_5', 'UMAP_6', 'UMAP_7', 'UMAP_8']"
   ]
  },
  {
   "cell_type": "code",
   "execution_count": 5,
   "metadata": {},
   "outputs": [],
   "source": [
    "df = pd.DataFrame(result, columns=[col[0] for col in cursor.description])\n",
    "\n",
    "atts = df.loc[:, atts_cols]\n",
    "embed = df.loc[:, embed_cols]"
   ]
  },
  {
   "cell_type": "code",
   "execution_count": 6,
   "metadata": {},
   "outputs": [],
   "source": [
    "from utils import json2tensor\n",
    "Sids, X = json2tensor(atts.to_dict('index'))"
   ]
  },
  {
   "cell_type": "code",
   "execution_count": 7,
   "metadata": {},
   "outputs": [
    {
     "data": {
      "text/plain": [
       "tensor([[1.2891e+02, 3.7744e+01, 5.0000e+01,  ..., 4.3682e-02, 0.0000e+00,\n",
       "         9.5632e-01],\n",
       "        [1.2890e+02, 3.7755e+01, 5.0000e+01,  ..., 2.6380e-01, 3.2426e-01,\n",
       "         4.1194e-01],\n",
       "        [1.2891e+02, 3.7754e+01, 5.0000e+01,  ..., 2.7188e-01, 0.0000e+00,\n",
       "         7.2812e-01],\n",
       "        ...,\n",
       "        [1.2792e+02, 3.7343e+01, 5.0000e+01,  ..., 7.2788e-01, 1.5569e-01,\n",
       "         1.1643e-01],\n",
       "        [1.2934e+02, 3.6019e+01, 5.0000e+01,  ..., 3.3261e-01, 1.2972e-02,\n",
       "         6.5442e-01],\n",
       "        [1.2773e+02, 3.5521e+01, 5.0000e+01,  ..., 1.2440e-01, 1.8324e-01,\n",
       "         6.9236e-01]])"
      ]
     },
     "execution_count": 7,
     "metadata": {},
     "output_type": "execute_result"
    }
   ],
   "source": [
    "X"
   ]
  },
  {
   "cell_type": "markdown",
   "metadata": {},
   "source": [
    "### DB 입력"
   ]
  },
  {
   "cell_type": "code",
   "execution_count": 2,
   "metadata": {},
   "outputs": [],
   "source": [
    "def update_occupancy(y_json):\n",
    "\n",
    "    connection = pymysql.connect(\n",
    "    host=host,\n",
    "    user=user,\n",
    "    password=password,\n",
    "    db=db,\n",
    "    charset='utf8',\n",
    "    port = 3306\n",
    ")\n",
    "\n",
    "    create_query = '''\n",
    "CREATE TABLE occupancy (\n",
    "Sid INT NOT NULL PRIMARY KEY, \n",
    "Occupancy_20 INT NOT NULL,\n",
    "Occupancy_60 INT NOT NULL,\n",
    "Occupancy_120 INT NOT NULL,\n",
    "FOREIGN KEY (sid) REFERENCES station(sid)\n",
    ")\n",
    "'''\n",
    "    select_query = \"SELECT sid FROM station\"\n",
    "\n",
    "    insert_query = \"INSERT INTO station VALUES {};\"\n",
    "\n",
    "    update_query = \"UPDATE occupancy SET Occupancy_20 = %d Occupancy_60 = %d Occupancy_120 = %d WHERE Sid = %d\"\n",
    "\n",
    "    try:\n",
    "        with connection.cursor() as cursor:\n",
    "                cursor.execute(create_query.replace('\\n', ''))\n",
    "                cursor.execute(select_query)\n",
    "                result = cursor.fetchall()\n",
    "\n",
    "        insert_query = \"INSERT INTO occupancy VALUES {};\"\n",
    "        for idx in result:\n",
    "            values = tuple(list(idx) + y_json[idx[0]])\n",
    "            with connection.cursor() as cursor:\n",
    "                cursor.execute(insert_query.format(values))\n",
    "            \n",
    "        connection.commit()\n",
    "        connection.close()\n",
    "\n",
    "    except:\n",
    "        with connection.curosr() as cursor:\n",
    "            cursor.execute(update_query, tuple(y_json[idx[0]], list(idx)))\n"
   ]
  },
  {
   "cell_type": "markdown",
   "metadata": {},
   "source": [
    "### Keep in mind\n",
    "- model, input이 제대로 주어지면 utils.py, inference.py 수정\n",
    "- 현재 시간 기준으로 가져올 것이기 때문에 Table에 데이터 입력시 2023년 8~10월로 맞춰야함."
   ]
  }
 ],
 "metadata": {
  "kernelspec": {
   "display_name": "gpu_env",
   "language": "python",
   "name": "gpu_env"
  },
  "language_info": {
   "codemirror_mode": {
    "name": "ipython",
    "version": 3
   },
   "file_extension": ".py",
   "mimetype": "text/x-python",
   "name": "python",
   "nbconvert_exporter": "python",
   "pygments_lexer": "ipython3",
   "version": "3.10.10"
  },
  "orig_nbformat": 4
 },
 "nbformat": 4,
 "nbformat_minor": 2
}
