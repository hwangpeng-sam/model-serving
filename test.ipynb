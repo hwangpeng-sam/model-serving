{
 "cells": [
  {
   "cell_type": "code",
   "execution_count": 2,
   "metadata": {},
   "outputs": [],
   "source": [
    "from utils import *\n",
    "\n",
    "model = load_model()\n",
    "\n",
    "r_seq = db2Rseq()\n",
    "h_seq = db2Hseq()\n",
    "t = dt2T()\n",
    "s_attrs, s_embed = db2S()\n",
    "\n",
    "output = model(r_seq.float(), h_seq.float(), t.int(), s_attrs.float())"
   ]
  },
  {
   "cell_type": "code",
   "execution_count": 3,
   "metadata": {},
   "outputs": [
    {
     "data": {
      "text/plain": [
       "tensor([[-0.0988, -2.3717, -7.1529],\n",
       "        [-0.1280, -2.1270, -7.0066],\n",
       "        [-0.0734, -2.6517, -8.2290],\n",
       "        ...,\n",
       "        [-0.1042, -2.3552, -5.5090],\n",
       "        [-0.1123, -2.2456, -7.9532],\n",
       "        [-0.1013, -2.3483, -7.1534]], grad_fn=<LogSoftmaxBackward0>)"
      ]
     },
     "execution_count": 3,
     "metadata": {},
     "output_type": "execute_result"
    }
   ],
   "source": [
    "output"
   ]
  }
 ],
 "metadata": {
  "kernelspec": {
   "display_name": "ai_env",
   "language": "python",
   "name": "ai_env"
  },
  "language_info": {
   "codemirror_mode": {
    "name": "ipython",
    "version": 3
   },
   "file_extension": ".py",
   "mimetype": "text/x-python",
   "name": "python",
   "nbconvert_exporter": "python",
   "pygments_lexer": "ipython3",
   "version": "3.9.17"
  },
  "orig_nbformat": 4
 },
 "nbformat": 4,
 "nbformat_minor": 2
}
