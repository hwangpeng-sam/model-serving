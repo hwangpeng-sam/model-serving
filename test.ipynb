{
 "cells": [
  {
   "cell_type": "code",
   "execution_count": 1,
   "metadata": {},
   "outputs": [],
   "source": [
    "import torch\n",
    "from model import MultiSeqBase\n",
    "model = MultiSeqBase(n_labels=3, hidden_size=32, embedding_dim=4, dropout_p=0.2)\n",
    "optim = torch.optim.Adam(model.parameters(), weight_decay=1e-3)\n",
    "\n",
    "# Load model and optimizer\n",
    "checkpoint = torch.load('test_model_and_optimizer.pth')\n",
    "model.load_state_dict(checkpoint['model_state_dict'])\n",
    "optim.load_state_dict(checkpoint['optimizer_state_dict'])"
   ]
  },
  {
   "cell_type": "code",
   "execution_count": 2,
   "metadata": {},
   "outputs": [],
   "source": [
    "from utils import db2Rseq, db2Hseq, dt2T, db2S, y2db\n",
    "\n",
    "r_seq = db2Rseq()\n",
    "h_seq = db2Hseq()\n",
    "t = dt2T()\n",
    "s_attrs, s_embed = db2S()\n",
    "\n",
    "output = model(r_seq.float(), h_seq.float(), t.int(), s_attrs.float()).argmax(dim=1)"
   ]
  },
  {
   "cell_type": "code",
   "execution_count": 3,
   "metadata": {},
   "outputs": [],
   "source": [
    "# get station id from database\n",
    "from utils import db_connect, db2Sid\n",
    "\n",
    "sid = db2Sid()"
   ]
  },
  {
   "cell_type": "code",
   "execution_count": 16,
   "metadata": {},
   "outputs": [],
   "source": [
    "def y2db(outputs):\n",
    "    sid = db2Sid()\n",
    "    update_query = \"UPDATE occupancy SET Occupancy_20 = %s WHERE Sid = %s\"\n",
    "    for values in list(zip(np.array(output), sid)):\n",
    "        \n",
    "        with connection.cursor() as cursor:\n",
    "            cursor.execute(update_query, values)\n",
    "        \n",
    "    connection.commit()\n",
    "    connection.close()"
   ]
  },
  {
   "cell_type": "code",
   "execution_count": 18,
   "metadata": {},
   "outputs": [],
   "source": [
    "connection = db_connect()\n",
    "connection.close()"
   ]
  }
 ],
 "metadata": {
  "kernelspec": {
   "display_name": "ai_env",
   "language": "python",
   "name": "ai_env"
  },
  "language_info": {
   "codemirror_mode": {
    "name": "ipython",
    "version": 3
   },
   "file_extension": ".py",
   "mimetype": "text/x-python",
   "name": "python",
   "nbconvert_exporter": "python",
   "pygments_lexer": "ipython3",
   "version": "3.9.17"
  },
  "orig_nbformat": 4
 },
 "nbformat": 4,
 "nbformat_minor": 2
}
