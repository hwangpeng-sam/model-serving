{
 "cells": [
  {
   "cell_type": "code",
   "execution_count": 1,
   "metadata": {},
   "outputs": [],
   "source": [
    "from utils import *\n",
    "\n",
    "def test():\n",
    "\n",
    "    # Load model\n",
    "    model = load_model()\n",
    "    \n",
    "    # import input from database\n",
    "    r_seq = db2Rseq()\n",
    "    h_seq = db2Hseq(h_step = 4)\n",
    "    t = dt2T()\n",
    "    s_attrs, _ = db2S()\n",
    "\n",
    "    # model inference\n",
    "    minutes = [20, 40, 60, 120]\n",
    "\n",
    "    for i, m in enumerate(minutes):\n",
    "        globals()[f'res_{m}'] = model(r_seq.float(), h_seq[:, i, :, :].float(), t[:, i, :].int(), s_attrs.float())\n",
    "\n",
    "    # export output to database\n",
    "    outputs = torch.hstack([res_20, res_40, res_60, res_120])\n",
    "\n",
    "    try:\n",
    "        y2db(outputs) \n",
    "        return {'status':'Success'}\n",
    "\n",
    "    except: return {'status':'Failed'}\n"
   ]
  },
  {
   "cell_type": "code",
   "execution_count": 2,
   "metadata": {},
   "outputs": [
    {
     "name": "stdout",
     "output_type": "stream",
     "text": [
      "tensor([[[53,  0,  0],\n",
      "         [54,  0,  0],\n",
      "         [55,  0,  0],\n",
      "         [58,  0,  0]],\n",
      "\n",
      "        [[53,  0,  0],\n",
      "         [54,  0,  0],\n",
      "         [55,  0,  0],\n",
      "         [58,  0,  0]],\n",
      "\n",
      "        [[53,  0,  0],\n",
      "         [54,  0,  0],\n",
      "         [55,  0,  0],\n",
      "         [58,  0,  0]],\n",
      "\n",
      "        ...,\n",
      "\n",
      "        [[53,  0,  0],\n",
      "         [54,  0,  0],\n",
      "         [55,  0,  0],\n",
      "         [58,  0,  0]],\n",
      "\n",
      "        [[53,  0,  0],\n",
      "         [54,  0,  0],\n",
      "         [55,  0,  0],\n",
      "         [58,  0,  0]],\n",
      "\n",
      "        [[53,  0,  0],\n",
      "         [54,  0,  0],\n",
      "         [55,  0,  0],\n",
      "         [58,  0,  0]]], dtype=torch.int32)\n"
     ]
    },
    {
     "data": {
      "text/plain": [
       "{'status': 'Success'}"
      ]
     },
     "execution_count": 2,
     "metadata": {},
     "output_type": "execute_result"
    }
   ],
   "source": [
    "test()"
   ]
  }
 ],
 "metadata": {
  "kernelspec": {
   "display_name": "ai_env",
   "language": "python",
   "name": "ai_env"
  },
  "language_info": {
   "codemirror_mode": {
    "name": "ipython",
    "version": 3
   },
   "file_extension": ".py",
   "mimetype": "text/x-python",
   "name": "python",
   "nbconvert_exporter": "python",
   "pygments_lexer": "ipython3",
   "version": "3.9.17"
  },
  "orig_nbformat": 4
 },
 "nbformat": 4,
 "nbformat_minor": 2
}
