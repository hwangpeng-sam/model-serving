{
 "cells": [
  {
   "cell_type": "code",
   "execution_count": 17,
   "metadata": {},
   "outputs": [],
   "source": [
    "scripted_model = torch.jit.script(model)\n",
    "torch.jit.save(scripted_model, 'model.pt')"
   ]
  },
  {
   "cell_type": "code",
   "execution_count": 1,
   "metadata": {},
   "outputs": [
    {
     "data": {
      "text/plain": [
       "RecursiveScriptModule(\n",
       "  original_name=MultiSeqUmapEmb\n",
       "  (lstm_r1): RecursiveScriptModule(original_name=LSTM)\n",
       "  (fc_r1): RecursiveScriptModule(original_name=Linear)\n",
       "  (lstm_h1): RecursiveScriptModule(original_name=LSTM)\n",
       "  (fc_h1): RecursiveScriptModule(original_name=Linear)\n",
       "  (timeslot_embedding): RecursiveScriptModule(original_name=Embedding)\n",
       "  (dow_embedding): RecursiveScriptModule(original_name=Embedding)\n",
       "  (we_embedding): RecursiveScriptModule(original_name=Embedding)\n",
       "  (sid_embedding): RecursiveScriptModule(original_name=Embedding)\n",
       "  (fc_b1): RecursiveScriptModule(original_name=Linear)\n",
       "  (fc_b2): RecursiveScriptModule(original_name=Linear)\n",
       "  (fc_b3): RecursiveScriptModule(original_name=Linear)\n",
       "  (fc_cat): RecursiveScriptModule(original_name=Linear)\n",
       "  (top): RecursiveScriptModule(original_name=Linear)\n",
       "  (dropout): RecursiveScriptModule(original_name=Dropout)\n",
       ")"
      ]
     },
     "execution_count": 1,
     "metadata": {},
     "output_type": "execute_result"
    }
   ],
   "source": [
    "import torch\n",
    "torch.jit.load('MultiSeqUmapEmb_epoch-100_pred_step-6_model.pt')"
   ]
  }
 ],
 "metadata": {
  "kernelspec": {
   "display_name": "ai_env",
   "language": "python",
   "name": "ai_env"
  },
  "language_info": {
   "codemirror_mode": {
    "name": "ipython",
    "version": 3
   },
   "file_extension": ".py",
   "mimetype": "text/x-python",
   "name": "python",
   "nbconvert_exporter": "python",
   "pygments_lexer": "ipython3",
   "version": "3.9.17"
  },
  "orig_nbformat": 4
 },
 "nbformat": 4,
 "nbformat_minor": 2
}
