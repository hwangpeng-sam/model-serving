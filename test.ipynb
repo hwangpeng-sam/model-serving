{
 "cells": [
  {
   "cell_type": "code",
   "execution_count": 2,
   "metadata": {},
   "outputs": [],
   "source": [
    "from utils import *\n",
    "\n",
    "model = load_model()\n",
    "    \n",
    "r_seq = db2Rseq()\n",
    "h_seq = db2Hseq(h_step = 4, pred_step = 6)\n",
    "t = dt2T(pred_step = 6)\n",
    "s_attrs, _ = db2S()\n",
    "\n",
    "# output = model(r_seq.float(), h_seq.float(), t.int(), s_attrs.float())"
   ]
  },
  {
   "cell_type": "code",
   "execution_count": 3,
   "metadata": {},
   "outputs": [
    {
     "data": {
      "text/plain": [
       "(torch.Size([722, 12, 1]),\n",
       " torch.Size([722, 6, 4, 1]),\n",
       " torch.Size([722, 6, 3]),\n",
       " torch.Size([722, 16]))"
      ]
     },
     "execution_count": 3,
     "metadata": {},
     "output_type": "execute_result"
    }
   ],
   "source": [
    "r_seq.shape, h_seq.shape, t.shape, s_attrs.shape"
   ]
  },
  {
   "cell_type": "code",
   "execution_count": 5,
   "metadata": {},
   "outputs": [
    {
     "name": "stdout",
     "output_type": "stream",
     "text": [
      "running time: 0.08759307861328125\n",
      "time: 1692321029.1656742 summation: 369411\n"
     ]
    }
   ],
   "source": [
    "# test for lambda\n",
    "import time\n",
    "import datetime\n",
    "\n",
    "now = time.time()\n",
    "connection = db_connect()\n",
    "select_query = \"SELECT * FROM occupancy\"\n",
    "\n",
    "with connection.cursor() as cursor:\n",
    "        cursor.execute(select_query)\n",
    "        result = cursor.fetchall()\n",
    "        connection.close()\n",
    "\n",
    "df = pd.DataFrame(result, columns=[col[0] for col in cursor.description])\n",
    "\n",
    "print('running time:', time.time() - now)\n",
    "print('time:', now, 'summation:', df.sum().sum())"
   ]
  }
 ],
 "metadata": {
  "kernelspec": {
   "display_name": "ai_env",
   "language": "python",
   "name": "ai_env"
  },
  "language_info": {
   "codemirror_mode": {
    "name": "ipython",
    "version": 3
   },
   "file_extension": ".py",
   "mimetype": "text/x-python",
   "name": "python",
   "nbconvert_exporter": "python",
   "pygments_lexer": "ipython3",
   "version": "3.9.17"
  },
  "orig_nbformat": 4
 },
 "nbformat": 4,
 "nbformat_minor": 2
}
