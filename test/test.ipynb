{
 "cells": [
  {
   "cell_type": "markdown",
   "metadata": {},
   "source": [
    "### Model API Workflow\n",
    "\n",
    "1. CloudWatch Events로부터 호출 받을 때, 시간을 보내거나, image 내에서 현재 시간 얻어내거나. (난이도로 봤을 때 훨씬 쉬운건 아무것도 안보내고, image 내에서 진행하는 것.)\n",
    "\n",
    "2. 시간을 20분 단위로 내림하기.\n",
    "\n",
    "3. RDS로부터 내림한 시간을 기준으로 데이터 받음. (evs info & timestamp's sequence(length: n) & pymysql)\n",
    "\n",
    "4. 받은 데이터 utils.py 돌리고 model 실행.\n",
    "\n",
    "5. RDS로부터 데이터 전달하여 update."
   ]
  },
  {
   "cell_type": "markdown",
   "metadata": {},
   "source": [
    "### Input Data Preprocessing\n",
    "\n",
    "- R_seq.shape = (n, 12, 1) : 12는 t-12 ~ t-1 <br>\n",
    "R_seq.values.unique() = [0, 1, 2]\n",
    "\n",
    "- H_seq.shape = (n, 4, 1) : 4는 w-4 ~ w-1 <br>\n",
    "H_seq.values.unique() = ?, 일단 [0, 1, 2]로 가정.\n",
    "\n",
    "- T.shape = (n, 3) : 3은 time_index, week_index, day_of_week\n",
    "\n",
    "- S.shape = (n, 16) : sid(int) 포함 충전소 변수들"
   ]
  },
  {
   "cell_type": "markdown",
   "metadata": {},
   "source": [
    "#### 고려할 점\n",
    "- 우선, DB로부터 데이터를 가져와서 처리하는 것을 가정. <br>\n",
    "이 때, sequence는 미리 잘라서 가져온다.\n",
    "\n",
    "- 지속적 학습 및 배포를 수행한다고 하면, Data를 insert하는 것이 반드시 필요할텐데, <br>\n",
    "raw Data를 한 번에 처리하여 DB에 전달하는 function을 만들어야 한다.\n",
    "\n",
    "- 이 과정 수행 후, Baseline Model에 맞춰 lambda handler 수정"
   ]
  },
  {
   "cell_type": "code",
   "execution_count": 165,
   "metadata": {},
   "outputs": [],
   "source": [
    "from private import db_info\n",
    "import pandas as pd\n",
    "import datetime\n",
    "import pymysql\n",
    "import torch\n",
    "\n",
    "# get current datetime\n",
    "def get_dt():\n",
    "    now = datetime.datetime.now()\n",
    "    dt = datetime.datetime(now.year, now.month, now.day, now.hour, now.minute//20*20, 00)\n",
    "    str_dt = dt.strftime('%Y-%m-%d %H:%M:%S')\n",
    "    return dt, str_dt"
   ]
  },
  {
   "cell_type": "code",
   "execution_count": 186,
   "metadata": {},
   "outputs": [],
   "source": [
    "from private import db_info\n",
    "import pandas as pd\n",
    "import datetime\n",
    "import pymysql\n",
    "import torch\n",
    "\n",
    "\n",
    "def db_connect():\n",
    "    host, user, password, db = db_info()\n",
    "\n",
    "    connection = pymysql.connect(\n",
    "        host=host,\n",
    "        user=user,\n",
    "        password=password,\n",
    "        db=db,\n",
    "        charset='utf8',\n",
    "        port = 3306\n",
    "    )\n",
    "\n",
    "    return connection\n",
    "\n",
    "# get time index\n",
    "import numpy as np\n",
    "def dt2T():\n",
    "    connection = db_connect()\n",
    "    select_query = \"SELECT * FROM sequence LIMIT 1\"\n",
    "    with connection.cursor() as cursor:\n",
    "        cursor.execute(select_query)\n",
    "        result = cursor.fetchall()\n",
    "        connection.close()\n",
    "\n",
    "    dt, _ = get_dt()\n",
    "    time_idx = dt.hour * 3 + dt.minute // 20\n",
    "    weekday = dt.weekday()\n",
    "    dow = weekday//5\n",
    "    T = np.array([time_idx, weekday, dow]).reshape(1, -1)\n",
    "    T = np.repeat(T, repeats = len(cursor.description)-1, axis = 0)\n",
    "    return torch.tensor(T)\n",
    "    "
   ]
  },
  {
   "cell_type": "code",
   "execution_count": 187,
   "metadata": {},
   "outputs": [
    {
     "data": {
      "text/plain": [
       "tensor([[59,  2,  0],\n",
       "        [59,  2,  0],\n",
       "        [59,  2,  0],\n",
       "        ...,\n",
       "        [59,  2,  0],\n",
       "        [59,  2,  0],\n",
       "        [59,  2,  0]], dtype=torch.int32)"
      ]
     },
     "execution_count": 187,
     "metadata": {},
     "output_type": "execute_result"
    }
   ],
   "source": [
    "dt2T()"
   ]
  }
 ],
 "metadata": {
  "kernelspec": {
   "display_name": "ai_env",
   "language": "python",
   "name": "ai_env"
  },
  "language_info": {
   "codemirror_mode": {
    "name": "ipython",
    "version": 3
   },
   "file_extension": ".py",
   "mimetype": "text/x-python",
   "name": "python",
   "nbconvert_exporter": "python",
   "pygments_lexer": "ipython3",
   "version": "3.9.17"
  },
  "orig_nbformat": 4
 },
 "nbformat": 4,
 "nbformat_minor": 2
}
